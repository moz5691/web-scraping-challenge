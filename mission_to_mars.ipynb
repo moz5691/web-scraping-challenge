{
 "cells": [
  {
   "cell_type": "code",
   "execution_count": 2,
   "metadata": {},
   "outputs": [],
   "source": [
    "import os\n",
    "import pandas as pd \n",
    "from bs4 import BeautifulSoup as bs4\n",
    "from splinter import Browser\n",
    "import requests \n",
    "import time"
   ]
  },
  {
   "cell_type": "code",
   "execution_count": 3,
   "metadata": {},
   "outputs": [],
   "source": [
    "executable_path = {'executable_path': '/usr/local/bin/chromedriver'}"
   ]
  },
  {
   "cell_type": "markdown",
   "metadata": {},
   "source": [
    "#### Scrape the NASA Mars News Site and collect the latest News Title and Paragraph Text. Assign the text to variables that you can reference later."
   ]
  },
  {
   "cell_type": "code",
   "execution_count": 36,
   "metadata": {},
   "outputs": [],
   "source": [
    "nasa_url = 'https://mars.nasa.gov/news/?page=0&per_page=40&order=publish_date+desc%2Ccreated_at+desc&search=&category=19%2C165%2C184%2C204&blank_scope=Latest'"
   ]
  },
  {
   "cell_type": "code",
   "execution_count": 37,
   "metadata": {},
   "outputs": [],
   "source": [
    "\n",
    "browser = Browser('chrome', **executable_path, headless=True)\n",
    "browser.visit(nasa_url)\n",
    "time.sleep(2)\n",
    "html = browser.html\n",
    "soup = bs4(html, 'lxml')\n",
    "filepath = os.path.join(\"html\", \"nasa_news.html\")\n",
    "with open(filepath, 'wb') as file:\n",
    "    file.write(soup.prettify('utf-8'))\n",
    "browser.quit()\n",
    "news_title= soup.find_all('div', class_=\"content_title\")[1].text\n",
    "news_p = soup.find('div', class_='article_teaser_body').text"
   ]
  },
  {
   "cell_type": "code",
   "execution_count": 38,
   "metadata": {},
   "outputs": [
    {
     "output_type": "stream",
     "name": "stdout",
     "text": "NASA's Perseverance Rover Goes Through Trials by Fire, Ice, Light and Sound The agency's new Mars rover is put through a series of tests in vacuum chambers, acoustic chambers and more to get ready for the Red Planet.\n"
    }
   ],
   "source": [
    "print(news_title, news_p)"
   ]
  },
  {
   "cell_type": "markdown",
   "metadata": {},
   "source": [
    "### JPL Mars Space Images - Featured Image"
   ]
  },
  {
   "cell_type": "code",
   "execution_count": 39,
   "metadata": {},
   "outputs": [],
   "source": [
    "jpl_url = 'https://www.jpl.nasa.gov/spaceimages/?search=&category=Mars'"
   ]
  },
  {
   "cell_type": "code",
   "execution_count": 40,
   "metadata": {},
   "outputs": [],
   "source": [
    "browser = Browser('chrome', **executable_path, headless=True)\n",
    "browser.visit(jpl_url)\n",
    "browser.click_link_by_id('full_image')\n",
    "time.sleep(2)\n",
    "html = browser.html\n",
    "soup = bs4(html, 'lxml')\n",
    "filepath = os.path.join(\"html\", \"jpl_mars.html\")\n",
    "with open(filepath, 'wb') as file:\n",
    "    file.write(soup.prettify('utf-8'))\n",
    "browser.quit()\n",
    "\n",
    "feaured_image = soup.find('img', class_='fancybox-image').get('src')\n",
    "feaured_image_url = 'https://www.jpl.nasa.gov'+feaured_image"
   ]
  },
  {
   "cell_type": "code",
   "execution_count": 41,
   "metadata": {},
   "outputs": [
    {
     "output_type": "stream",
     "name": "stdout",
     "text": "https://www.jpl.nasa.gov/spaceimages/images/mediumsize/PIA20465_ip.jpg\n"
    }
   ],
   "source": [
    "print(feaured_image_url)"
   ]
  },
  {
   "cell_type": "markdown",
   "metadata": {},
   "source": [
    "### Twitter Mars Weather"
   ]
  },
  {
   "cell_type": "code",
   "execution_count": 42,
   "metadata": {},
   "outputs": [],
   "source": [
    "twitter_url = 'https://twitter.com/marswxreport?lang=en'\n",
    "browser = Browser('chrome', **executable_path, headless=True)\n",
    "browser.visit(twitter_url)\n",
    "time.sleep(2)\n",
    "html = browser.html\n",
    "soup = bs4(html, 'lxml')\n",
    "filepath = os.path.join(\"html\", \"twitter_mars.html\")\n",
    "with open(filepath, 'wb') as file:\n",
    "    file.write(soup.prettify('utf-8'))\n",
    "browser.quit()\n",
    "\n",
    "weathers = soup.find_all('div', class_='css-901oao r-jwli3a r-1qd0xha r-a023e6 r-16dba41 r-ad9z0x r-bcqeeo r-bnwqim r-qvutc0')\n",
    "current_weather = weathers[0].find('span', class_='css-901oao css-16my406 r-1qd0xha r-ad9z0x r-bcqeeo r-qvutc0' ).text"
   ]
  },
  {
   "cell_type": "code",
   "execution_count": 43,
   "metadata": {},
   "outputs": [
    {
     "output_type": "stream",
     "name": "stdout",
     "text": "InSight sol 524 (2020-05-18) low -92.5ºC (-134.4ºF) high 0.5ºC (32.9ºF)\nwinds from the SW at 4.8 m/s (10.7 mph) gusting to 15.3 m/s (34.3 mph)\npressure at 7.00 hPa\n"
    }
   ],
   "source": [
    "print(current_weather)"
   ]
  },
  {
   "cell_type": "markdown",
   "metadata": {},
   "source": [
    "### Space facts"
   ]
  },
  {
   "cell_type": "code",
   "execution_count": 44,
   "metadata": {},
   "outputs": [],
   "source": [
    "space_facts_url = 'https://space-facts.com/mars/'\n",
    "tables = pd.read_html(space_facts_url)\n",
    "table_html = tables[0].to_html(header=False, index=False)"
   ]
  },
  {
   "cell_type": "code",
   "execution_count": 45,
   "metadata": {},
   "outputs": [
    {
     "output_type": "stream",
     "name": "stdout",
     "text": "<table border=\"1\" class=\"dataframe\">\n  <tbody>\n    <tr>\n      <td>Equatorial Diameter:</td>\n      <td>6,792 km</td>\n    </tr>\n    <tr>\n      <td>Polar Diameter:</td>\n      <td>6,752 km</td>\n    </tr>\n    <tr>\n      <td>Mass:</td>\n      <td>6.39 × 10^23 kg (0.11 Earths)</td>\n    </tr>\n    <tr>\n      <td>Moons:</td>\n      <td>2 (Phobos &amp; Deimos)</td>\n    </tr>\n    <tr>\n      <td>Orbit Distance:</td>\n      <td>227,943,824 km (1.38 AU)</td>\n    </tr>\n    <tr>\n      <td>Orbit Period:</td>\n      <td>687 days (1.9 years)</td>\n    </tr>\n    <tr>\n      <td>Surface Temperature:</td>\n      <td>-87 to -5 °C</td>\n    </tr>\n    <tr>\n      <td>First Record:</td>\n      <td>2nd millennium BC</td>\n    </tr>\n    <tr>\n      <td>Recorded By:</td>\n      <td>Egyptian astronomers</td>\n    </tr>\n  </tbody>\n</table>\n"
    }
   ],
   "source": [
    "print(table_html)"
   ]
  },
  {
   "cell_type": "markdown",
   "metadata": {},
   "source": [
    "### Mars Hemispheres"
   ]
  },
  {
   "cell_type": "code",
   "execution_count": 4,
   "metadata": {},
   "outputs": [],
   "source": [
    "mars_hemi_url ='https://astrogeology.usgs.gov/search/results?q=hemisphere+enhanced&k1=target&v1=Mars'\n",
    "image_urls = list()\n",
    "titles = list()\n",
    "hemi_full_image_urls = list()\n",
    "\n",
    "browser = Browser('chrome', **executable_path, headless=True)\n",
    "browser.visit(mars_hemi_url)\n",
    "time.sleep(2)\n",
    "html = browser.html\n",
    "soup = bs4(html, 'lxml')\n",
    "filepath = os.path.join(\"html\", \"mars_hemi.html\")\n",
    "\n",
    "with open(filepath, 'wb') as file:\n",
    "    file.write(soup.prettify('utf-8'))\n",
    "\n",
    "links = browser.find_by_css('.description .itemLink')\n",
    "\n",
    "for link in links:\n",
    "    image_urls.append(link['href'])\n",
    "    titles.append(link.text)\n",
    "\n",
    "for index, image_url in enumerate(image_urls):\n",
    "    browser.visit(image_url)\n",
    "    time.sleep(1)\n",
    "    image_link = browser.find_by_css('.downloads ul li a')[0]\n",
    "    hemi_full_image_urls.append({'title': titles[index], 'img_url': image_link['href']})\n",
    "\n",
    "browser.quit()\n"
   ]
  },
  {
   "cell_type": "code",
   "execution_count": 5,
   "metadata": {},
   "outputs": [
    {
     "output_type": "stream",
     "name": "stdout",
     "text": "[{'title': 'Cerberus Hemisphere Enhanced', 'img_url': 'https://astropedia.astrogeology.usgs.gov/download/Mars/Viking/cerberus_enhanced.tif/full.jpg'}, {'title': 'Schiaparelli Hemisphere Enhanced', 'img_url': 'https://astropedia.astrogeology.usgs.gov/download/Mars/Viking/schiaparelli_enhanced.tif/full.jpg'}, {'title': 'Syrtis Major Hemisphere Enhanced', 'img_url': 'https://astropedia.astrogeology.usgs.gov/download/Mars/Viking/syrtis_major_enhanced.tif/full.jpg'}, {'title': 'Valles Marineris Hemisphere Enhanced', 'img_url': 'https://astropedia.astrogeology.usgs.gov/download/Mars/Viking/valles_marineris_enhanced.tif/full.jpg'}]\n"
    }
   ],
   "source": [
    "print(hemi_full_image_urls)"
   ]
  },
  {
   "cell_type": "code",
   "execution_count": null,
   "metadata": {},
   "outputs": [],
   "source": []
  }
 ],
 "metadata": {
  "language_info": {
   "codemirror_mode": {
    "name": "ipython",
    "version": 3
   },
   "file_extension": ".py",
   "mimetype": "text/x-python",
   "name": "python",
   "nbconvert_exporter": "python",
   "pygments_lexer": "ipython3",
   "version": "3.7.7-final"
  },
  "orig_nbformat": 2,
  "kernelspec": {
   "name": "python37664bittf20virtualenv736919b569e8448581413b76ec40f078",
   "display_name": "Python 3.7.6 64-bit ('tf20': virtualenv)"
  }
 },
 "nbformat": 4,
 "nbformat_minor": 2
}